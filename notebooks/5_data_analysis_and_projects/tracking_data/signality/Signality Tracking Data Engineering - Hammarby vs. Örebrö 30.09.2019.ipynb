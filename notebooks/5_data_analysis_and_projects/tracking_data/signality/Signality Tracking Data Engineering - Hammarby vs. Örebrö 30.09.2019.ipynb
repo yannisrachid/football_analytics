{
 "cells": [
  {
   "cell_type": "markdown",
   "metadata": {},
   "source": [
    "<a id='top'></a>"
   ]
  },
  {
   "cell_type": "markdown",
   "metadata": {},
   "source": [
    "# Signality Tracking Data Engineering of Hammarby vs. Örebrö 30.09.2019\n",
    "##### Notebook to explores three sample matches of Spatiotemporal Tracking data from [Signality](https://www.signality.com/).\n",
    "\n",
    "### By [Edd Webster](https://www.twitter.com/eddwebster)\n",
    "Notebook first written: 17/01/2020<br>\n",
    "Notebook last updated: 17/01/2021\n",
    "\n",
    "![title](../../../../img/signality_screenshot.png)"
   ]
  },
  {
   "cell_type": "markdown",
   "metadata": {},
   "source": [
    "---\n",
    "\n",
    "## <a id='import_libraries'>Introduction</a>\n",
    "This notebook is a short Exploratory Data Analysis (EDA) of [Signality](https://www.signality.com/) Spatiotemporal Tracking and corresponding Event data with [Python](https://www.python.org/) using [pandas](http://pandas.pydata.org/) DataFrames and [matplotlib](https://matplotlib.org/contents.html?v=20200411155018) visualisations.\n",
    "\n",
    "For more information about this notebook and the author, I'm available through all the following channels:\n",
    "*    [eddwebster.com](https://www.eddwebster.com/);\n",
    "*    edd.j.webster@gmail.com;\n",
    "*    [@eddwebster](https://www.twitter.com/eddwebster);\n",
    "*    [linkedin.com/in/eddwebster](https://www.linkedin.com/in/eddwebster/);\n",
    "*    [github/eddwebster](https://github.com/eddwebster/);\n",
    "*    [public.tableau.com/profile/edd.webster](https://public.tableau.com/profile/edd.webster);\n",
    "*    [kaggle.com/eddwebster](https://www.kaggle.com/eddwebster); and\n",
    "*    [hackerrank.com/eddwebster](https://www.hackerrank.com/eddwebster).\n",
    "\n",
    "![title](../../../../img/fifa21eddwebsterbanner.png)\n",
    "\n",
    "The accompanying GitHub repository for this notebook can be found [here](https://github.com/eddwebster/football_analytics) and a static version of this notebook can be found [here](https://nbviewer.jupyter.org/github/eddwebster/football_analytics/blob/master/notebooks/A%29%20Web%20Scraping/TransferMarkt%20Web%20Scraping%20and%20Parsing.ipynb)."
   ]
  },
  {
   "cell_type": "markdown",
   "metadata": {},
   "source": [
    "___\n",
    "\n",
    "<a id='sectioncontents'></a>"
   ]
  },
  {
   "cell_type": "markdown",
   "metadata": {},
   "source": [
    "## <a id='notebook_contents'>Notebook Contents</a>\n",
    "1.    [Notebook Dependencies](#section1)<br>\n",
    "2.    [Project Brief](#section2)<br>\n",
    "3.    [Data Sources](#section3)<br>\n",
    "      1.    [Introduction](#section3.1)<br>\n",
    "      2.    [Data Dictionary](#section3.2)<br>\n",
    "      3.    [Creating the DataFrame](#section3.3)<br>\n",
    "      4.    [Initial Data Handling](#section3.4)<br>\n",
    "      5.    [Export the Raw DataFrame](#section3.5)<br>         \n",
    "4.    [Data Engineering](#section4)<br>\n",
    "      1.    [Introduction](#section4.1)<br>\n",
    "      2.    [Columns of Interest](#section4.2)<br>\n",
    "      3.    [String Cleaning](#section4.3)<br>\n",
    "      4.    [Converting Data Types](#section4.4)<br>\n",
    "      5.    [Export the Engineered DataFrame](#section4.5)<br>\n",
    "5.    [Exploratory Data Analysis (EDA)](#section5)<br>\n",
    "      1.    [...](#section5.1)<br>\n",
    "      2.    [...](#section5.2)<br>\n",
    "      3.    [...](#section5.3)<br>\n",
    "6.    [Summary](#section6)<br>\n",
    "7.    [Next Steps](#section7)<br>\n",
    "8.    [Bibliography](#section8)<br>"
   ]
  },
  {
   "cell_type": "markdown",
   "metadata": {},
   "source": [
    "---\n",
    "\n",
    "## <a id='#section1'>1. Notebook Dependencies</a>"
   ]
  },
  {
   "cell_type": "markdown",
   "metadata": {},
   "source": [
    "This notebook was written using [Python 3](https://docs.python.org/3.7/) and requires the following libraries:\n",
    "*    [`Jupyter notebooks`](https://jupyter.org/) for this notebook environment with which this project is presented;\n",
    "*    [`NumPy`](http://www.numpy.org/) for multidimensional array computing;\n",
    "*    [`pandas`](http://pandas.pydata.org/) for data analysis and manipulation;\n",
    "*    [`Beautifulsoup`](https://pypi.org/project/beautifulsoup4/) for web scraping; and\n",
    "*    [`matplotlib`](https://matplotlib.org/contents.html?v=20200411155018) for data visualisations;\n",
    "\n",
    "All packages used for this notebook except for BeautifulSoup can be obtained by downloading and installing the [Conda](https://anaconda.org/anaconda/conda) distribution, available on all platforms (Windows, Linux and Mac OSX). Step-by-step guides on how to install Anaconda can be found for Windows [here](https://medium.com/@GalarnykMichael/install-python-on-windows-anaconda-c63c7c3d1444) and Mac [here](https://medium.com/@GalarnykMichael/install-python-on-mac-anaconda-ccd9f2014072), as well as in the Anaconda documentation itself [here](https://docs.anaconda.com/anaconda/install/)."
   ]
  },
  {
   "cell_type": "markdown",
   "metadata": {},
   "source": [
    "### Import Libraries and Modules"
   ]
  },
  {
   "cell_type": "code",
   "execution_count": 1,
   "metadata": {},
   "outputs": [
    {
     "name": "stdout",
     "output_type": "stream",
     "text": [
      "Setup Complete\n"
     ]
    }
   ],
   "source": [
    "# Python ≥3.5 (ideally)\n",
    "import platform\n",
    "import sys, getopt\n",
    "assert sys.version_info >= (3, 5)\n",
    "import csv\n",
    "import pprint as pp\n",
    "\n",
    "# Import Dependencies\n",
    "%matplotlib inline\n",
    "\n",
    "# Math Operations\n",
    "import numpy as np\n",
    "import math\n",
    "from math import pi\n",
    "\n",
    "# Datetime\n",
    "import datetime\n",
    "from datetime import date\n",
    "import time\n",
    "\n",
    "# Data Preprocessing\n",
    "import pandas as pd\n",
    "import re\n",
    "import os\n",
    "from collections import Counter, defaultdict\n",
    "import random\n",
    "from io import BytesIO\n",
    "from pathlib import Path\n",
    "\n",
    "# Reading directories\n",
    "import glob\n",
    "import os\n",
    "from os.path import basename\n",
    "\n",
    "# Working with JSON\n",
    "import json\n",
    "from pandas.io.json import json_normalize\n",
    "\n",
    "# Data Visualisation\n",
    "import matplotlib as mpl\n",
    "import matplotlib.pyplot as plt\n",
    "import matplotlib.animation as animation\n",
    "from matplotlib import patches\n",
    "import seaborn as sns\n",
    "plt.style.use('seaborn-whitegrid')\n",
    "import missingno as msno\n",
    "import moviepy.editor as mpy\n",
    "from moviepy.video.io.bindings import mplfig_to_npimage\n",
    "\n",
    "# Progress Bar\n",
    "from tqdm import tqdm\n",
    "\n",
    "# Fran Peralta's custom libraries for working with Signality data\n",
    "from Libraries import Functions_PreprocessTrackingData as funcs\n",
    "from Libraries import Dictionaries as dicts\n",
    "\n",
    "# ML libraries\n",
    "import scipy.signal as signal\n",
    "from scipy.spatial import Voronoi, voronoi_plot_2d\n",
    "\n",
    "# Display in Jupyter\n",
    "from IPython.display import Image, Video, YouTubeVideo\n",
    "from IPython.core.display import HTML\n",
    "\n",
    "# Ignore Warnings\n",
    "import warnings\n",
    "warnings.filterwarnings(\"ignore\", category=UserWarning)\n",
    "\n",
    "print('Setup Complete')"
   ]
  },
  {
   "cell_type": "markdown",
   "metadata": {},
   "source": [
    "### Defined Filepaths"
   ]
  },
  {
   "cell_type": "code",
   "execution_count": 2,
   "metadata": {},
   "outputs": [],
   "source": [
    "# Set up initial paths to subfolders\n",
    "base_dir = os.path.join('..', '..', '..', '..')\n",
    "data_dir = os.path.join(base_dir, 'data')\n",
    "data_dir_metrica = os.path.join(base_dir, 'data', 'metrica')\n",
    "data_dir_signality = os.path.join(base_dir, 'data', 'signality')\n",
    "data_dir_signality_tracking = os.path.join(base_dir, 'data', 'signality', 'raw', '2019', 'tracking_data')\n",
    "scripts_dir = os.path.join(base_dir, 'scripts')\n",
    "scripts_dir_signality = os.path.join(base_dir, 'scripts', 'signality')\n",
    "scripts_dir_metrica = os.path.join(base_dir, 'scripts', 'metrica')\n",
    "img_dir = os.path.join(base_dir, 'img')\n",
    "fig_dir = os.path.join(base_dir, 'img', 'fig')\n",
    "fig_dir_signality = os.path.join(base_dir, 'img', 'fig', 'signality')\n",
    "video_dir = os.path.join(base_dir, 'video')\n",
    "video_dir_signality = os.path.join(base_dir, 'video', 'signality')"
   ]
  },
  {
   "cell_type": "code",
   "execution_count": 3,
   "metadata": {},
   "outputs": [
    {
     "name": "stdout",
     "output_type": "stream",
     "text": [
      "Python: 3.7.6\n",
      "NumPy: 1.18.0\n",
      "pandas: 1.2.0\n",
      "matplotlib: 3.3.2\n",
      "Seaborn: 0.11.1\n"
     ]
    }
   ],
   "source": [
    "# Python / module versions used here for reference\n",
    "print('Python: {}'.format(platform.python_version()))\n",
    "print('NumPy: {}'.format(np.__version__))\n",
    "print('pandas: {}'.format(pd.__version__))\n",
    "print('matplotlib: {}'.format(mpl.__version__))\n",
    "print('Seaborn: {}'.format(sns.__version__))"
   ]
  },
  {
   "cell_type": "markdown",
   "metadata": {},
   "source": [
    "### Defined Variables"
   ]
  },
  {
   "cell_type": "code",
   "execution_count": 4,
   "metadata": {},
   "outputs": [],
   "source": [
    "# Define today's date\n",
    "today = datetime.datetime.now().strftime('%d/%m/%Y').replace('/', '')\n",
    "\n",
    "# Define pitch dimensions\n",
    "pitch_length = 106.0\n",
    "pitch_width = 68"
   ]
  },
  {
   "cell_type": "markdown",
   "metadata": {},
   "source": [
    "### Custom Libraries for Tracking Data"
   ]
  },
  {
   "cell_type": "code",
   "execution_count": 5,
   "metadata": {},
   "outputs": [],
   "source": [
    "# Custom libraries for working with Signality data based on Laurie Shaw's Metric Sports libraries for Metrica Sports data\n",
    "\n",
    "## Define path of scripts\n",
    "sys.path.insert(0, os.path.abspath(scripts_dir))\n",
    "\n",
    "## Signality scripts - custom scripts derived from Laurie Shaw's Metrica scripts\n",
    "import Signality_IO as sio\n",
    "import Signality_Velocities as svel"
   ]
  },
  {
   "cell_type": "markdown",
   "metadata": {},
   "source": [
    "### Notebook Settings"
   ]
  },
  {
   "cell_type": "code",
   "execution_count": 6,
   "metadata": {},
   "outputs": [],
   "source": [
    "pd.set_option('display.max_columns', None)"
   ]
  },
  {
   "cell_type": "markdown",
   "metadata": {},
   "source": [
    "---\n",
    "\n",
    "## <a id='#section2'>2. Project Brief</a>\n",
    "This Jupyter notebook engineered scraped football data from [Signality](https://www.signality.com/) using [pandas](http://pandas.pydata.org/) for data manipulation through DataFrames, [matplotlib]() for plotting, [scipy]() for Machine Learning.\n",
    "\n",
    "The data of player values produced in this notebook is exported to CSV. This data can be further analysed in Python, joined to other datasets, or explored using dashboarding tools such as Tableau or PowerBI, or explores in a spreadsheet such as Microsoft Excel or Google Sheets."
   ]
  },
  {
   "cell_type": "markdown",
   "metadata": {},
   "source": [
    "### <a id='#section2.1'>2.1. Goals</a>\n",
    "*    Hammarby 2 vs. 0 Malmö FF on 20th October 2019 [[link](https://int.soccerway.com/matches/2019/10/20/sweden/allsvenskan/hammarby/malmo-fotbollsforening/2947351/)]\n",
    "     - A. Kačaniklić 15' (1-0) (assist by N. Đurđić)\n",
    "     - R. Magyar 88' (2-0) (assist by D. Bojanic)\n",
    "*    Hammarby 5 vs. 1 Örebrö on 30th September 2019 [[link](https://int.soccerway.com/matches/2019/09/30/sweden/allsvenskan/hammarby/orebro-sportklubb-fotboll/2947335/)]\n",
    "     - V. Prodell 11' (0-1), (assist by Yaser Kasim)\n",
    "     - V. Rodić 39' (1-1), (assist by S. Sandberg)\n",
    "     - N. Đurđić 57' (2-1), (assist by D. Bojanic)\n",
    "     - V. Rodić 62' (3-1)\n",
    "     - V. Rodić 80' (4-1), (assist by D. Widgren)\n",
    "     - M. Solheim 90'+3 (5-1), (assist by N. Đurđić)"
   ]
  },
  {
   "cell_type": "markdown",
   "metadata": {},
   "source": [
    "### <a id='#section2.2'>2.2. Highlights</a>"
   ]
  },
  {
   "cell_type": "code",
   "execution_count": null,
   "metadata": {},
   "outputs": [],
   "source": []
  },
  {
   "cell_type": "markdown",
   "metadata": {},
   "source": [
    "---\n",
    "\n",
    "## <a id='#section3'>3. Data Sources</a>\n",
    "[Signality](https://www.signality.com/) is a...\n",
    "\n",
    "![title](../../../../img/signality_logo.png)\n",
    "\n",
    "The tracking data represents the location of every player on the pitch with a temporal frequency of 25 Hz and the corresponding match time for each tracking frame is specified.\n",
    "\n",
    "Before conducting our EDA, the data needs to be imported as a DataFrame in the Data Sources section [Section 3](#section3) and cleaned in the Data Engineering section [Section 4](#section4).\n",
    "\n",
    "\n",
    "We'll be using the [pandas](http://pandas.pydata.org/) library to import our data to this workbook as a DataFrame."
   ]
  },
  {
   "cell_type": "markdown",
   "metadata": {},
   "source": [
    "### <a id='#section3.2.1'>3.2.1. Data Dictionaries</a>\n",
    "The [Signality](https://www.signality.com/) Events dataset has fourteen features (columns) with the following definitions and data types:\n",
    "\n",
    "| Feature     | Data type    |\n",
    "|------|-----|\n",
    "| `Team`    | object     |\n",
    "| `Type`    | object     |\n",
    "| `Subtype`    | object     |\n",
    "| `Period`    | int64     |\n",
    "| `Start Frame `    | int64     |\n",
    "| `Start Time [s]`    | float64     |\n",
    "| `End Frame`    | int64     |\n",
    "| `End Time [s]`    | float64     |\n",
    "| `From`    | object     |\n",
    "| `To`    | object     |\n",
    "| `Start X`    | float64     |\n",
    "| `Start Y`    | float64     |\n",
    "| `End X`    | float64     |\n",
    "| `End Y`    | float64     |\n",
    "\n",
    "For a full list of definitions, see the Metrica Sports documentation [[link](https://github.com/metrica-sports/sample-data/blob/master/documentation/events-definitions.pdf)."
   ]
  },
  {
   "cell_type": "markdown",
   "metadata": {},
   "source": [
    "### <a id='#section3.2'>3.2. Import Data</a>"
   ]
  },
  {
   "cell_type": "markdown",
   "metadata": {},
   "source": [
    "#### <a id='#section3.2.1'> 3.2.1. First Half"
   ]
  },
  {
   "cell_type": "code",
   "execution_count": 7,
   "metadata": {},
   "outputs": [
    {
     "name": "stdout",
     "output_type": "stream",
     "text": [
      "\n",
      "Loading data, this might take some seconds...\n",
      "Data has been loaded\n",
      "\n"
     ]
    }
   ],
   "source": [
    "# Select the file from the three matches of Tracking data\n",
    "#file_name = '20190722.Hammarby-IFElfsborg'\n",
    "#file_name = '20191020.Hammarby-MalmöFF'\n",
    "file_name = '20190930.Hammarby-Örebro'        # NB: 2nd half almost no players in field\n",
    "\n",
    "# Names of the teams playing in OPTA format\n",
    "home_team_name = 'Hammarby IF'\n",
    "away_team_name = 'Örebro'\n",
    "year = file_name[:4]\n",
    "\n",
    "# First '.1' or second '.2' half of the match\n",
    "data_file_name=file_name+'.1'\n",
    "\n",
    "#Preprocesses the file in to the format we use.\n",
    "if not os.path.exists(data_dir_signality_tracking + '/Preprocessed/' + data_file_name + '_preprocessed.pickle'):\n",
    "    preprocessed = False\n",
    "    [ball_position_not_transf, players_position_not_transf, players_team_id, events, players_jersey,\n",
    "     info_match,names_of_players] = funcs.LoadDataHammarbyNewStructure2020(data_file_name, data_dir_signality_tracking + '/')\n",
    "else:\n",
    "    preprocessed = True\n",
    "    [ball_position_not_transf,players_position_not_transf,players_team_id,events,players_jersey,\n",
    "     info_match,names_of_players,players_in_play_list] = funcs.LoadDataHammarbyPreprocessed(data_file_name, data_dir_signality_tracking + '/')\n",
    "\n",
    "frame_id = 1000\n",
    "team_index = players_team_id[frame_id].astype(int).reshape(len(players_team_id[frame_id]),)\n",
    "players_in_play = funcs.GetPlayersInPlay(players_position_not_transf,frame_id)\n",
    "\n",
    "[players_position,ball_position] = funcs.TransformCoords(players_position_not_transf,ball_position_not_transf)"
   ]
  },
  {
   "cell_type": "code",
   "execution_count": 8,
   "metadata": {},
   "outputs": [],
   "source": [
    "### Store data in dataframe with same format as Metrica data to be able to use parts of Laurie Shaw's code\n",
    "tracking_first_half = np.array(players_position)\n",
    "totalplayers = 36\n",
    "tracking_first_half.shape = -1, totalplayers*2     # X and Y coordinate for every player\n",
    "tracking_first_half = pd.DataFrame(tracking_first_half)\n",
    "column_names = []                   \n",
    "for i in range(totalplayers):       # Rename columns\n",
    "    if i < totalplayers/2:\n",
    "        column_names.append(f'Home_{players_jersey[i]}_x')\n",
    "        column_names.append(f'Home_{players_jersey[i]}_y')\n",
    "    else:\n",
    "        column_names.append(f'Away_{players_jersey[i]}_x')\n",
    "        column_names.append(f'Away_{players_jersey[i]}_y')\n",
    "tracking_first_half.columns = column_names"
   ]
  },
  {
   "cell_type": "code",
   "execution_count": 9,
   "metadata": {},
   "outputs": [],
   "source": [
    "# Convert coordinates\n",
    "tracking_first_half.replace([-105, -68], float('nan'), inplace=True)\n",
    "pitch_length = info_match['calibration']['pitch_size'][0]\n",
    "pitch_width = info_match['calibration']['pitch_size'][1]\n",
    "for i in range(totalplayers*2):\n",
    "    if i % 2 == 0:\n",
    "        tracking_first_half.iloc[:,i] = tracking_first_half.iloc[:,i] - pitch_length/2            # subtract pitch length to set centre circle to (0,0)       \n",
    "    else:                                                                   \n",
    "        tracking_first_half.iloc[:,i] = (tracking_first_half.iloc[:,i] - pitch_width/2) * -1      # also multiply by -1 to mirror horizontally\n",
    "# split home & away team\n",
    "tracking_home_first_half=tracking_first_half.iloc[:,0:totalplayers]       \n",
    "tracking_away_first_half=tracking_first_half.iloc[:,totalplayers:totalplayers*2]"
   ]
  },
  {
   "cell_type": "code",
   "execution_count": 10,
   "metadata": {},
   "outputs": [],
   "source": [
    "# Convert ball position coordinates\n",
    "ball_position = pd.DataFrame(ball_position, index=tracking_home_first_half.index)\n",
    "ball_position.columns = ['ball_x', 'ball_y']\n",
    "ball_position.replace([np.inf], float('nan'), inplace=True)\n",
    "ball_position.iloc[:,0] = ball_position.iloc[:,0] - pitch_length/2\n",
    "ball_position.iloc[:,1] = (ball_position.iloc[:,1] - pitch_width/2) * -1"
   ]
  },
  {
   "cell_type": "code",
   "execution_count": 11,
   "metadata": {},
   "outputs": [],
   "source": [
    "# Add ball position to dataframes\n",
    "tracking_home_first_half = pd.concat([tracking_home_first_half, ball_position], 1)\n",
    "tracking_away_first_half = pd.concat([tracking_away_first_half, ball_position], 1) "
   ]
  },
  {
   "cell_type": "code",
   "execution_count": 12,
   "metadata": {},
   "outputs": [
    {
     "data": {
      "text/html": [
       "<div>\n",
       "<style scoped>\n",
       "    .dataframe tbody tr th:only-of-type {\n",
       "        vertical-align: middle;\n",
       "    }\n",
       "\n",
       "    .dataframe tbody tr th {\n",
       "        vertical-align: top;\n",
       "    }\n",
       "\n",
       "    .dataframe thead th {\n",
       "        text-align: right;\n",
       "    }\n",
       "</style>\n",
       "<table border=\"1\" class=\"dataframe\">\n",
       "  <thead>\n",
       "    <tr style=\"text-align: right;\">\n",
       "      <th></th>\n",
       "      <th>Home_24_x</th>\n",
       "      <th>Home_24_y</th>\n",
       "      <th>Home_14_x</th>\n",
       "      <th>Home_14_y</th>\n",
       "      <th>Home_16_x</th>\n",
       "      <th>Home_16_y</th>\n",
       "      <th>Home_26_x</th>\n",
       "      <th>Home_26_y</th>\n",
       "      <th>Home_31_x</th>\n",
       "      <th>Home_31_y</th>\n",
       "      <th>Home_32_x</th>\n",
       "      <th>Home_32_y</th>\n",
       "      <th>Home_77_x</th>\n",
       "      <th>Home_77_y</th>\n",
       "      <th>Home_25_x</th>\n",
       "      <th>Home_25_y</th>\n",
       "      <th>Home_2_x</th>\n",
       "      <th>Home_2_y</th>\n",
       "      <th>Home_4_x</th>\n",
       "      <th>Home_4_y</th>\n",
       "      <th>Home_13_x</th>\n",
       "      <th>Home_13_y</th>\n",
       "      <th>Home_3_x</th>\n",
       "      <th>Home_3_y</th>\n",
       "      <th>Home_6_x</th>\n",
       "      <th>Home_6_y</th>\n",
       "      <th>Home_20_x</th>\n",
       "      <th>Home_20_y</th>\n",
       "      <th>Home_19_x</th>\n",
       "      <th>Home_19_y</th>\n",
       "      <th>Home_11_x</th>\n",
       "      <th>Home_11_y</th>\n",
       "      <th>Home_40_x</th>\n",
       "      <th>Home_40_y</th>\n",
       "      <th>Home_22_x</th>\n",
       "      <th>Home_22_y</th>\n",
       "      <th>ball_x</th>\n",
       "      <th>ball_y</th>\n",
       "    </tr>\n",
       "  </thead>\n",
       "  <tbody>\n",
       "    <tr>\n",
       "      <th>0</th>\n",
       "      <td>NaN</td>\n",
       "      <td>NaN</td>\n",
       "      <td>NaN</td>\n",
       "      <td>NaN</td>\n",
       "      <td>NaN</td>\n",
       "      <td>NaN</td>\n",
       "      <td>NaN</td>\n",
       "      <td>NaN</td>\n",
       "      <td>NaN</td>\n",
       "      <td>NaN</td>\n",
       "      <td>NaN</td>\n",
       "      <td>NaN</td>\n",
       "      <td>NaN</td>\n",
       "      <td>NaN</td>\n",
       "      <td>NaN</td>\n",
       "      <td>NaN</td>\n",
       "      <td>NaN</td>\n",
       "      <td>NaN</td>\n",
       "      <td>NaN</td>\n",
       "      <td>NaN</td>\n",
       "      <td>NaN</td>\n",
       "      <td>NaN</td>\n",
       "      <td>NaN</td>\n",
       "      <td>NaN</td>\n",
       "      <td>NaN</td>\n",
       "      <td>NaN</td>\n",
       "      <td>NaN</td>\n",
       "      <td>NaN</td>\n",
       "      <td>NaN</td>\n",
       "      <td>NaN</td>\n",
       "      <td>NaN</td>\n",
       "      <td>NaN</td>\n",
       "      <td>NaN</td>\n",
       "      <td>NaN</td>\n",
       "      <td>NaN</td>\n",
       "      <td>NaN</td>\n",
       "      <td>NaN</td>\n",
       "      <td>NaN</td>\n",
       "    </tr>\n",
       "    <tr>\n",
       "      <th>1</th>\n",
       "      <td>NaN</td>\n",
       "      <td>NaN</td>\n",
       "      <td>NaN</td>\n",
       "      <td>NaN</td>\n",
       "      <td>NaN</td>\n",
       "      <td>NaN</td>\n",
       "      <td>NaN</td>\n",
       "      <td>NaN</td>\n",
       "      <td>NaN</td>\n",
       "      <td>NaN</td>\n",
       "      <td>NaN</td>\n",
       "      <td>NaN</td>\n",
       "      <td>NaN</td>\n",
       "      <td>NaN</td>\n",
       "      <td>NaN</td>\n",
       "      <td>NaN</td>\n",
       "      <td>NaN</td>\n",
       "      <td>NaN</td>\n",
       "      <td>NaN</td>\n",
       "      <td>NaN</td>\n",
       "      <td>NaN</td>\n",
       "      <td>NaN</td>\n",
       "      <td>NaN</td>\n",
       "      <td>NaN</td>\n",
       "      <td>NaN</td>\n",
       "      <td>NaN</td>\n",
       "      <td>NaN</td>\n",
       "      <td>NaN</td>\n",
       "      <td>NaN</td>\n",
       "      <td>NaN</td>\n",
       "      <td>NaN</td>\n",
       "      <td>NaN</td>\n",
       "      <td>NaN</td>\n",
       "      <td>NaN</td>\n",
       "      <td>NaN</td>\n",
       "      <td>NaN</td>\n",
       "      <td>NaN</td>\n",
       "      <td>NaN</td>\n",
       "    </tr>\n",
       "    <tr>\n",
       "      <th>2</th>\n",
       "      <td>NaN</td>\n",
       "      <td>NaN</td>\n",
       "      <td>NaN</td>\n",
       "      <td>NaN</td>\n",
       "      <td>NaN</td>\n",
       "      <td>NaN</td>\n",
       "      <td>NaN</td>\n",
       "      <td>NaN</td>\n",
       "      <td>NaN</td>\n",
       "      <td>NaN</td>\n",
       "      <td>NaN</td>\n",
       "      <td>NaN</td>\n",
       "      <td>NaN</td>\n",
       "      <td>NaN</td>\n",
       "      <td>NaN</td>\n",
       "      <td>NaN</td>\n",
       "      <td>18.650287</td>\n",
       "      <td>9.246784</td>\n",
       "      <td>NaN</td>\n",
       "      <td>NaN</td>\n",
       "      <td>19.985373</td>\n",
       "      <td>-15.616959</td>\n",
       "      <td>18.198566</td>\n",
       "      <td>-25.807018</td>\n",
       "      <td>11.422753</td>\n",
       "      <td>-7.315789</td>\n",
       "      <td>-0.201530</td>\n",
       "      <td>-8.956140</td>\n",
       "      <td>NaN</td>\n",
       "      <td>NaN</td>\n",
       "      <td>0.440918</td>\n",
       "      <td>19.695322</td>\n",
       "      <td>NaN</td>\n",
       "      <td>NaN</td>\n",
       "      <td>-0.020841</td>\n",
       "      <td>-19.066667</td>\n",
       "      <td>NaN</td>\n",
       "      <td>NaN</td>\n",
       "    </tr>\n",
       "    <tr>\n",
       "      <th>3</th>\n",
       "      <td>NaN</td>\n",
       "      <td>NaN</td>\n",
       "      <td>NaN</td>\n",
       "      <td>NaN</td>\n",
       "      <td>NaN</td>\n",
       "      <td>NaN</td>\n",
       "      <td>NaN</td>\n",
       "      <td>NaN</td>\n",
       "      <td>NaN</td>\n",
       "      <td>NaN</td>\n",
       "      <td>NaN</td>\n",
       "      <td>NaN</td>\n",
       "      <td>NaN</td>\n",
       "      <td>NaN</td>\n",
       "      <td>NaN</td>\n",
       "      <td>NaN</td>\n",
       "      <td>18.670363</td>\n",
       "      <td>9.266667</td>\n",
       "      <td>20.216252</td>\n",
       "      <td>-2.335088</td>\n",
       "      <td>19.995411</td>\n",
       "      <td>-15.607018</td>\n",
       "      <td>18.198566</td>\n",
       "      <td>-25.816959</td>\n",
       "      <td>11.422753</td>\n",
       "      <td>-7.315789</td>\n",
       "      <td>-0.241683</td>\n",
       "      <td>-8.916374</td>\n",
       "      <td>NaN</td>\n",
       "      <td>NaN</td>\n",
       "      <td>0.420841</td>\n",
       "      <td>19.705263</td>\n",
       "      <td>NaN</td>\n",
       "      <td>NaN</td>\n",
       "      <td>-0.030880</td>\n",
       "      <td>-19.066667</td>\n",
       "      <td>NaN</td>\n",
       "      <td>NaN</td>\n",
       "    </tr>\n",
       "    <tr>\n",
       "      <th>4</th>\n",
       "      <td>NaN</td>\n",
       "      <td>NaN</td>\n",
       "      <td>NaN</td>\n",
       "      <td>NaN</td>\n",
       "      <td>NaN</td>\n",
       "      <td>NaN</td>\n",
       "      <td>NaN</td>\n",
       "      <td>NaN</td>\n",
       "      <td>NaN</td>\n",
       "      <td>NaN</td>\n",
       "      <td>NaN</td>\n",
       "      <td>NaN</td>\n",
       "      <td>NaN</td>\n",
       "      <td>NaN</td>\n",
       "      <td>NaN</td>\n",
       "      <td>NaN</td>\n",
       "      <td>18.690440</td>\n",
       "      <td>9.286550</td>\n",
       "      <td>20.226291</td>\n",
       "      <td>-2.335088</td>\n",
       "      <td>20.005449</td>\n",
       "      <td>-15.587135</td>\n",
       "      <td>18.198566</td>\n",
       "      <td>-25.826901</td>\n",
       "      <td>11.422753</td>\n",
       "      <td>-7.325731</td>\n",
       "      <td>-0.301912</td>\n",
       "      <td>-8.876608</td>\n",
       "      <td>NaN</td>\n",
       "      <td>NaN</td>\n",
       "      <td>0.390727</td>\n",
       "      <td>19.725146</td>\n",
       "      <td>NaN</td>\n",
       "      <td>NaN</td>\n",
       "      <td>-0.050956</td>\n",
       "      <td>-19.076608</td>\n",
       "      <td>NaN</td>\n",
       "      <td>NaN</td>\n",
       "    </tr>\n",
       "    <tr>\n",
       "      <th>...</th>\n",
       "      <td>...</td>\n",
       "      <td>...</td>\n",
       "      <td>...</td>\n",
       "      <td>...</td>\n",
       "      <td>...</td>\n",
       "      <td>...</td>\n",
       "      <td>...</td>\n",
       "      <td>...</td>\n",
       "      <td>...</td>\n",
       "      <td>...</td>\n",
       "      <td>...</td>\n",
       "      <td>...</td>\n",
       "      <td>...</td>\n",
       "      <td>...</td>\n",
       "      <td>...</td>\n",
       "      <td>...</td>\n",
       "      <td>...</td>\n",
       "      <td>...</td>\n",
       "      <td>...</td>\n",
       "      <td>...</td>\n",
       "      <td>...</td>\n",
       "      <td>...</td>\n",
       "      <td>...</td>\n",
       "      <td>...</td>\n",
       "      <td>...</td>\n",
       "      <td>...</td>\n",
       "      <td>...</td>\n",
       "      <td>...</td>\n",
       "      <td>...</td>\n",
       "      <td>...</td>\n",
       "      <td>...</td>\n",
       "      <td>...</td>\n",
       "      <td>...</td>\n",
       "      <td>...</td>\n",
       "      <td>...</td>\n",
       "      <td>...</td>\n",
       "      <td>...</td>\n",
       "      <td>...</td>\n",
       "    </tr>\n",
       "    <tr>\n",
       "      <th>66688</th>\n",
       "      <td>NaN</td>\n",
       "      <td>NaN</td>\n",
       "      <td>NaN</td>\n",
       "      <td>NaN</td>\n",
       "      <td>NaN</td>\n",
       "      <td>NaN</td>\n",
       "      <td>NaN</td>\n",
       "      <td>NaN</td>\n",
       "      <td>NaN</td>\n",
       "      <td>NaN</td>\n",
       "      <td>NaN</td>\n",
       "      <td>NaN</td>\n",
       "      <td>NaN</td>\n",
       "      <td>NaN</td>\n",
       "      <td>30.445220</td>\n",
       "      <td>4.783041</td>\n",
       "      <td>-34.010325</td>\n",
       "      <td>33.514035</td>\n",
       "      <td>-38.698184</td>\n",
       "      <td>3.291813</td>\n",
       "      <td>-39.129828</td>\n",
       "      <td>-8.081287</td>\n",
       "      <td>-7.810516</td>\n",
       "      <td>4.116959</td>\n",
       "      <td>-29.121702</td>\n",
       "      <td>-16.362573</td>\n",
       "      <td>-36.038050</td>\n",
       "      <td>21.206433</td>\n",
       "      <td>-21.793786</td>\n",
       "      <td>13.243275</td>\n",
       "      <td>-21.482600</td>\n",
       "      <td>-3.736842</td>\n",
       "      <td>-37.985468</td>\n",
       "      <td>14.267251</td>\n",
       "      <td>-38.959178</td>\n",
       "      <td>0.428655</td>\n",
       "      <td>-6.746608</td>\n",
       "      <td>9.175367</td>\n",
       "    </tr>\n",
       "    <tr>\n",
       "      <th>66689</th>\n",
       "      <td>NaN</td>\n",
       "      <td>NaN</td>\n",
       "      <td>NaN</td>\n",
       "      <td>NaN</td>\n",
       "      <td>NaN</td>\n",
       "      <td>NaN</td>\n",
       "      <td>NaN</td>\n",
       "      <td>NaN</td>\n",
       "      <td>NaN</td>\n",
       "      <td>NaN</td>\n",
       "      <td>NaN</td>\n",
       "      <td>NaN</td>\n",
       "      <td>NaN</td>\n",
       "      <td>NaN</td>\n",
       "      <td>30.425143</td>\n",
       "      <td>4.743275</td>\n",
       "      <td>-33.960134</td>\n",
       "      <td>33.494152</td>\n",
       "      <td>-38.647992</td>\n",
       "      <td>3.271930</td>\n",
       "      <td>-39.069598</td>\n",
       "      <td>-8.091228</td>\n",
       "      <td>-7.629828</td>\n",
       "      <td>4.146784</td>\n",
       "      <td>-29.031358</td>\n",
       "      <td>-16.352632</td>\n",
       "      <td>-35.997897</td>\n",
       "      <td>21.176608</td>\n",
       "      <td>-21.793786</td>\n",
       "      <td>13.253216</td>\n",
       "      <td>-21.342065</td>\n",
       "      <td>-3.697076</td>\n",
       "      <td>-37.945315</td>\n",
       "      <td>14.287135</td>\n",
       "      <td>-38.908987</td>\n",
       "      <td>0.428655</td>\n",
       "      <td>-6.316453</td>\n",
       "      <td>8.974515</td>\n",
       "    </tr>\n",
       "    <tr>\n",
       "      <th>66690</th>\n",
       "      <td>NaN</td>\n",
       "      <td>NaN</td>\n",
       "      <td>NaN</td>\n",
       "      <td>NaN</td>\n",
       "      <td>NaN</td>\n",
       "      <td>NaN</td>\n",
       "      <td>NaN</td>\n",
       "      <td>NaN</td>\n",
       "      <td>NaN</td>\n",
       "      <td>NaN</td>\n",
       "      <td>NaN</td>\n",
       "      <td>NaN</td>\n",
       "      <td>NaN</td>\n",
       "      <td>NaN</td>\n",
       "      <td>30.405067</td>\n",
       "      <td>4.693567</td>\n",
       "      <td>-33.899904</td>\n",
       "      <td>33.474269</td>\n",
       "      <td>-38.597801</td>\n",
       "      <td>3.261988</td>\n",
       "      <td>-39.019407</td>\n",
       "      <td>-8.101170</td>\n",
       "      <td>-7.439101</td>\n",
       "      <td>4.176608</td>\n",
       "      <td>-28.941013</td>\n",
       "      <td>-16.352632</td>\n",
       "      <td>-35.947706</td>\n",
       "      <td>21.136842</td>\n",
       "      <td>-21.783748</td>\n",
       "      <td>13.253216</td>\n",
       "      <td>-21.201530</td>\n",
       "      <td>-3.667251</td>\n",
       "      <td>-37.895124</td>\n",
       "      <td>14.297076</td>\n",
       "      <td>-38.858795</td>\n",
       "      <td>0.428655</td>\n",
       "      <td>-5.895492</td>\n",
       "      <td>8.761130</td>\n",
       "    </tr>\n",
       "    <tr>\n",
       "      <th>66691</th>\n",
       "      <td>NaN</td>\n",
       "      <td>NaN</td>\n",
       "      <td>NaN</td>\n",
       "      <td>NaN</td>\n",
       "      <td>NaN</td>\n",
       "      <td>NaN</td>\n",
       "      <td>NaN</td>\n",
       "      <td>NaN</td>\n",
       "      <td>NaN</td>\n",
       "      <td>NaN</td>\n",
       "      <td>NaN</td>\n",
       "      <td>NaN</td>\n",
       "      <td>NaN</td>\n",
       "      <td>NaN</td>\n",
       "      <td>30.374952</td>\n",
       "      <td>4.643860</td>\n",
       "      <td>-33.849713</td>\n",
       "      <td>33.444444</td>\n",
       "      <td>-38.547610</td>\n",
       "      <td>3.252047</td>\n",
       "      <td>-38.969216</td>\n",
       "      <td>-8.111111</td>\n",
       "      <td>-7.248375</td>\n",
       "      <td>4.206433</td>\n",
       "      <td>-28.850669</td>\n",
       "      <td>-16.352632</td>\n",
       "      <td>-35.897514</td>\n",
       "      <td>21.107018</td>\n",
       "      <td>-21.773709</td>\n",
       "      <td>13.263158</td>\n",
       "      <td>-21.060994</td>\n",
       "      <td>-3.627485</td>\n",
       "      <td>-37.834895</td>\n",
       "      <td>14.307018</td>\n",
       "      <td>-38.808604</td>\n",
       "      <td>0.428655</td>\n",
       "      <td>-5.485080</td>\n",
       "      <td>8.551326</td>\n",
       "    </tr>\n",
       "    <tr>\n",
       "      <th>66692</th>\n",
       "      <td>NaN</td>\n",
       "      <td>NaN</td>\n",
       "      <td>NaN</td>\n",
       "      <td>NaN</td>\n",
       "      <td>NaN</td>\n",
       "      <td>NaN</td>\n",
       "      <td>NaN</td>\n",
       "      <td>NaN</td>\n",
       "      <td>NaN</td>\n",
       "      <td>NaN</td>\n",
       "      <td>NaN</td>\n",
       "      <td>NaN</td>\n",
       "      <td>NaN</td>\n",
       "      <td>NaN</td>\n",
       "      <td>30.344837</td>\n",
       "      <td>4.584211</td>\n",
       "      <td>-33.799522</td>\n",
       "      <td>33.424561</td>\n",
       "      <td>-38.497419</td>\n",
       "      <td>3.242105</td>\n",
       "      <td>-38.908987</td>\n",
       "      <td>-8.130994</td>\n",
       "      <td>-7.047610</td>\n",
       "      <td>4.226316</td>\n",
       "      <td>-28.750287</td>\n",
       "      <td>-16.362573</td>\n",
       "      <td>-35.847323</td>\n",
       "      <td>21.087135</td>\n",
       "      <td>-21.753633</td>\n",
       "      <td>13.273099</td>\n",
       "      <td>-20.920459</td>\n",
       "      <td>-3.597661</td>\n",
       "      <td>-37.784704</td>\n",
       "      <td>14.316959</td>\n",
       "      <td>-38.758413</td>\n",
       "      <td>0.418713</td>\n",
       "      <td>-5.005070</td>\n",
       "      <td>8.329354</td>\n",
       "    </tr>\n",
       "  </tbody>\n",
       "</table>\n",
       "<p>66693 rows × 38 columns</p>\n",
       "</div>"
      ],
      "text/plain": [
       "       Home_24_x  Home_24_y  Home_14_x  Home_14_y  Home_16_x  Home_16_y  \\\n",
       "0            NaN        NaN        NaN        NaN        NaN        NaN   \n",
       "1            NaN        NaN        NaN        NaN        NaN        NaN   \n",
       "2            NaN        NaN        NaN        NaN        NaN        NaN   \n",
       "3            NaN        NaN        NaN        NaN        NaN        NaN   \n",
       "4            NaN        NaN        NaN        NaN        NaN        NaN   \n",
       "...          ...        ...        ...        ...        ...        ...   \n",
       "66688        NaN        NaN        NaN        NaN        NaN        NaN   \n",
       "66689        NaN        NaN        NaN        NaN        NaN        NaN   \n",
       "66690        NaN        NaN        NaN        NaN        NaN        NaN   \n",
       "66691        NaN        NaN        NaN        NaN        NaN        NaN   \n",
       "66692        NaN        NaN        NaN        NaN        NaN        NaN   \n",
       "\n",
       "       Home_26_x  Home_26_y  Home_31_x  Home_31_y  Home_32_x  Home_32_y  \\\n",
       "0            NaN        NaN        NaN        NaN        NaN        NaN   \n",
       "1            NaN        NaN        NaN        NaN        NaN        NaN   \n",
       "2            NaN        NaN        NaN        NaN        NaN        NaN   \n",
       "3            NaN        NaN        NaN        NaN        NaN        NaN   \n",
       "4            NaN        NaN        NaN        NaN        NaN        NaN   \n",
       "...          ...        ...        ...        ...        ...        ...   \n",
       "66688        NaN        NaN        NaN        NaN        NaN        NaN   \n",
       "66689        NaN        NaN        NaN        NaN        NaN        NaN   \n",
       "66690        NaN        NaN        NaN        NaN        NaN        NaN   \n",
       "66691        NaN        NaN        NaN        NaN        NaN        NaN   \n",
       "66692        NaN        NaN        NaN        NaN        NaN        NaN   \n",
       "\n",
       "       Home_77_x  Home_77_y  Home_25_x  Home_25_y   Home_2_x   Home_2_y  \\\n",
       "0            NaN        NaN        NaN        NaN        NaN        NaN   \n",
       "1            NaN        NaN        NaN        NaN        NaN        NaN   \n",
       "2            NaN        NaN        NaN        NaN  18.650287   9.246784   \n",
       "3            NaN        NaN        NaN        NaN  18.670363   9.266667   \n",
       "4            NaN        NaN        NaN        NaN  18.690440   9.286550   \n",
       "...          ...        ...        ...        ...        ...        ...   \n",
       "66688        NaN        NaN  30.445220   4.783041 -34.010325  33.514035   \n",
       "66689        NaN        NaN  30.425143   4.743275 -33.960134  33.494152   \n",
       "66690        NaN        NaN  30.405067   4.693567 -33.899904  33.474269   \n",
       "66691        NaN        NaN  30.374952   4.643860 -33.849713  33.444444   \n",
       "66692        NaN        NaN  30.344837   4.584211 -33.799522  33.424561   \n",
       "\n",
       "        Home_4_x  Home_4_y  Home_13_x  Home_13_y   Home_3_x   Home_3_y  \\\n",
       "0            NaN       NaN        NaN        NaN        NaN        NaN   \n",
       "1            NaN       NaN        NaN        NaN        NaN        NaN   \n",
       "2            NaN       NaN  19.985373 -15.616959  18.198566 -25.807018   \n",
       "3      20.216252 -2.335088  19.995411 -15.607018  18.198566 -25.816959   \n",
       "4      20.226291 -2.335088  20.005449 -15.587135  18.198566 -25.826901   \n",
       "...          ...       ...        ...        ...        ...        ...   \n",
       "66688 -38.698184  3.291813 -39.129828  -8.081287  -7.810516   4.116959   \n",
       "66689 -38.647992  3.271930 -39.069598  -8.091228  -7.629828   4.146784   \n",
       "66690 -38.597801  3.261988 -39.019407  -8.101170  -7.439101   4.176608   \n",
       "66691 -38.547610  3.252047 -38.969216  -8.111111  -7.248375   4.206433   \n",
       "66692 -38.497419  3.242105 -38.908987  -8.130994  -7.047610   4.226316   \n",
       "\n",
       "        Home_6_x   Home_6_y  Home_20_x  Home_20_y  Home_19_x  Home_19_y  \\\n",
       "0            NaN        NaN        NaN        NaN        NaN        NaN   \n",
       "1            NaN        NaN        NaN        NaN        NaN        NaN   \n",
       "2      11.422753  -7.315789  -0.201530  -8.956140        NaN        NaN   \n",
       "3      11.422753  -7.315789  -0.241683  -8.916374        NaN        NaN   \n",
       "4      11.422753  -7.325731  -0.301912  -8.876608        NaN        NaN   \n",
       "...          ...        ...        ...        ...        ...        ...   \n",
       "66688 -29.121702 -16.362573 -36.038050  21.206433 -21.793786  13.243275   \n",
       "66689 -29.031358 -16.352632 -35.997897  21.176608 -21.793786  13.253216   \n",
       "66690 -28.941013 -16.352632 -35.947706  21.136842 -21.783748  13.253216   \n",
       "66691 -28.850669 -16.352632 -35.897514  21.107018 -21.773709  13.263158   \n",
       "66692 -28.750287 -16.362573 -35.847323  21.087135 -21.753633  13.273099   \n",
       "\n",
       "       Home_11_x  Home_11_y  Home_40_x  Home_40_y  Home_22_x  Home_22_y  \\\n",
       "0            NaN        NaN        NaN        NaN        NaN        NaN   \n",
       "1            NaN        NaN        NaN        NaN        NaN        NaN   \n",
       "2       0.440918  19.695322        NaN        NaN  -0.020841 -19.066667   \n",
       "3       0.420841  19.705263        NaN        NaN  -0.030880 -19.066667   \n",
       "4       0.390727  19.725146        NaN        NaN  -0.050956 -19.076608   \n",
       "...          ...        ...        ...        ...        ...        ...   \n",
       "66688 -21.482600  -3.736842 -37.985468  14.267251 -38.959178   0.428655   \n",
       "66689 -21.342065  -3.697076 -37.945315  14.287135 -38.908987   0.428655   \n",
       "66690 -21.201530  -3.667251 -37.895124  14.297076 -38.858795   0.428655   \n",
       "66691 -21.060994  -3.627485 -37.834895  14.307018 -38.808604   0.428655   \n",
       "66692 -20.920459  -3.597661 -37.784704  14.316959 -38.758413   0.418713   \n",
       "\n",
       "         ball_x    ball_y  \n",
       "0           NaN       NaN  \n",
       "1           NaN       NaN  \n",
       "2           NaN       NaN  \n",
       "3           NaN       NaN  \n",
       "4           NaN       NaN  \n",
       "...         ...       ...  \n",
       "66688 -6.746608  9.175367  \n",
       "66689 -6.316453  8.974515  \n",
       "66690 -5.895492  8.761130  \n",
       "66691 -5.485080  8.551326  \n",
       "66692 -5.005070  8.329354  \n",
       "\n",
       "[66693 rows x 38 columns]"
      ]
     },
     "execution_count": 12,
     "metadata": {},
     "output_type": "execute_result"
    }
   ],
   "source": [
    "tracking_home_first_half"
   ]
  },
  {
   "cell_type": "code",
   "execution_count": 13,
   "metadata": {},
   "outputs": [
    {
     "ename": "UnboundLocalError",
     "evalue": "local variable 'dx2goal' referenced before assignment",
     "output_type": "error",
     "traceback": [
      "\u001b[0;31m---------------------------------------------------------------------------\u001b[0m",
      "\u001b[0;31mUnboundLocalError\u001b[0m                         Traceback (most recent call last)",
      "\u001b[0;32m<ipython-input-13-56b759794167>\u001b[0m in \u001b[0;36m<module>\u001b[0;34m\u001b[0m\n\u001b[1;32m      1\u001b[0m \u001b[0;31m#### Add velocitiy & acceleration & distance to goal\u001b[0m\u001b[0;34m\u001b[0m\u001b[0;34m\u001b[0m\u001b[0;34m\u001b[0m\u001b[0m\n\u001b[0;32m----> 2\u001b[0;31m \u001b[0mtracking_home_first_half\u001b[0m \u001b[0;34m=\u001b[0m \u001b[0msvel\u001b[0m\u001b[0;34m.\u001b[0m\u001b[0mcalc_player_velocities\u001b[0m\u001b[0;34m(\u001b[0m\u001b[0mtracking_home_first_half\u001b[0m\u001b[0;34m,\u001b[0m \u001b[0mfile_name\u001b[0m\u001b[0;34m=\u001b[0m\u001b[0;34m'20191020.Hammarby-MalmöFF'\u001b[0m\u001b[0;34m,\u001b[0m \u001b[0mdata_file_name\u001b[0m\u001b[0;34m=\u001b[0m\u001b[0mfile_name\u001b[0m\u001b[0;34m+\u001b[0m\u001b[0;34m'.1'\u001b[0m\u001b[0;34m,\u001b[0m \u001b[0mmaxspeed\u001b[0m\u001b[0;34m=\u001b[0m\u001b[0;36m12\u001b[0m\u001b[0;34m,\u001b[0m \u001b[0msmoothing_v\u001b[0m\u001b[0;34m=\u001b[0m\u001b[0;32mTrue\u001b[0m\u001b[0;34m,\u001b[0m \u001b[0msmoothing_a\u001b[0m\u001b[0;34m=\u001b[0m\u001b[0;32mTrue\u001b[0m\u001b[0;34m,\u001b[0m \u001b[0mdistance2goal\u001b[0m\u001b[0;34m=\u001b[0m\u001b[0;32mTrue\u001b[0m\u001b[0;34m,\u001b[0m \u001b[0mpitch_length\u001b[0m\u001b[0;34m=\u001b[0m\u001b[0;36m106\u001b[0m\u001b[0;34m,\u001b[0m \u001b[0mpitch_width\u001b[0m\u001b[0;34m=\u001b[0m\u001b[0;36m68\u001b[0m\u001b[0;34m)\u001b[0m\u001b[0;34m\u001b[0m\u001b[0;34m\u001b[0m\u001b[0m\n\u001b[0m\u001b[1;32m      3\u001b[0m \u001b[0;31m#### We don't add distance to goal for Hammarby's opponent because other direction not implemented\u001b[0m\u001b[0;34m\u001b[0m\u001b[0;34m\u001b[0m\u001b[0;34m\u001b[0m\u001b[0m\n\u001b[1;32m      4\u001b[0m \u001b[0mtracking_away_first_half\u001b[0m \u001b[0;34m=\u001b[0m \u001b[0msvel\u001b[0m\u001b[0;34m.\u001b[0m\u001b[0mcalc_player_velocities\u001b[0m\u001b[0;34m(\u001b[0m\u001b[0mtracking_away_first_half\u001b[0m\u001b[0;34m,\u001b[0m \u001b[0mfile_name\u001b[0m\u001b[0;34m=\u001b[0m\u001b[0;34m'20191020.Hammarby-MalmöFF'\u001b[0m\u001b[0;34m,\u001b[0m \u001b[0mdata_file_name\u001b[0m\u001b[0;34m=\u001b[0m\u001b[0mfile_name\u001b[0m\u001b[0;34m+\u001b[0m\u001b[0;34m'.1'\u001b[0m\u001b[0;34m,\u001b[0m \u001b[0mmaxspeed\u001b[0m\u001b[0;34m=\u001b[0m\u001b[0;36m12\u001b[0m\u001b[0;34m,\u001b[0m \u001b[0msmoothing_v\u001b[0m\u001b[0;34m=\u001b[0m\u001b[0;32mTrue\u001b[0m\u001b[0;34m,\u001b[0m \u001b[0msmoothing_a\u001b[0m\u001b[0;34m=\u001b[0m\u001b[0;32mTrue\u001b[0m\u001b[0;34m,\u001b[0m \u001b[0mdistance2goal\u001b[0m\u001b[0;34m=\u001b[0m\u001b[0;32mFalse\u001b[0m\u001b[0;34m,\u001b[0m \u001b[0mpitch_length\u001b[0m\u001b[0;34m=\u001b[0m\u001b[0;36m106\u001b[0m\u001b[0;34m,\u001b[0m \u001b[0mpitch_width\u001b[0m\u001b[0;34m=\u001b[0m\u001b[0;36m68\u001b[0m\u001b[0;34m)\u001b[0m\u001b[0;34m\u001b[0m\u001b[0;34m\u001b[0m\u001b[0m\n",
      "\u001b[0;32m~/Documents/Programming/Projects by Type/Football/scripts/Signality_Velocities.py\u001b[0m in \u001b[0;36mcalc_player_velocities\u001b[0;34m(team, data_file_name, file_name, smoothing_v, smoothing_a, distance2goal, window, maxspeed, pitch_length, pitch_width)\u001b[0m\n\u001b[1;32m     77\u001b[0m                 \u001b[0mdx2goal\u001b[0m \u001b[0;34m=\u001b[0m \u001b[0;34m(\u001b[0m\u001b[0mpitch_length\u001b[0m\u001b[0;34m/\u001b[0m\u001b[0;36m2\u001b[0m\u001b[0;34m)\u001b[0m \u001b[0;34m-\u001b[0m \u001b[0mteam\u001b[0m\u001b[0;34m[\u001b[0m\u001b[0mplayer\u001b[0m\u001b[0;34m+\u001b[0m\u001b[0;34m\"_x\"\u001b[0m\u001b[0;34m]\u001b[0m\u001b[0;34m\u001b[0m\u001b[0;34m\u001b[0m\u001b[0m\n\u001b[1;32m     78\u001b[0m \u001b[0;34m\u001b[0m\u001b[0m\n\u001b[0;32m---> 79\u001b[0;31m             \u001b[0mdist2goal\u001b[0m \u001b[0;34m=\u001b[0m \u001b[0mnp\u001b[0m\u001b[0;34m.\u001b[0m\u001b[0msqrt\u001b[0m\u001b[0;34m(\u001b[0m \u001b[0mdx2goal\u001b[0m\u001b[0;34m**\u001b[0m\u001b[0;36m2\u001b[0m \u001b[0;34m+\u001b[0m \u001b[0mdy2goal\u001b[0m\u001b[0;34m**\u001b[0m\u001b[0;36m2\u001b[0m \u001b[0;34m)\u001b[0m\u001b[0;34m\u001b[0m\u001b[0;34m\u001b[0m\u001b[0m\n\u001b[0m\u001b[1;32m     80\u001b[0m             \u001b[0mteam\u001b[0m\u001b[0;34m[\u001b[0m\u001b[0mplayer\u001b[0m \u001b[0;34m+\u001b[0m \u001b[0;34m\"_dist2goal\"\u001b[0m\u001b[0;34m]\u001b[0m \u001b[0;34m=\u001b[0m \u001b[0mdist2goal\u001b[0m\u001b[0;34m\u001b[0m\u001b[0;34m\u001b[0m\u001b[0m\n\u001b[1;32m     81\u001b[0m     \u001b[0;32mreturn\u001b[0m \u001b[0mteam\u001b[0m\u001b[0;34m\u001b[0m\u001b[0;34m\u001b[0m\u001b[0m\n",
      "\u001b[0;31mUnboundLocalError\u001b[0m: local variable 'dx2goal' referenced before assignment"
     ]
    }
   ],
   "source": [
    "#### Add velocitiy & acceleration & distance to goal\n",
    "tracking_home_first_half = svel.calc_player_velocities(tracking_home_first_half, file_name='20191020.Hammarby-MalmöFF', data_file_name=file_name+'.1', maxspeed=12, smoothing_v=True, smoothing_a=True, distance2goal=True, pitch_length=106, pitch_width=68)\n",
    "#### We don't add distance to goal for Hammarby's opponent because other direction not implemented\n",
    "tracking_away_first_half = svel.calc_player_velocities(tracking_away_first_half, file_name='20191020.Hammarby-MalmöFF', data_file_name=file_name+'.1', maxspeed=12, smoothing_v=True, smoothing_a=True, distance2goal=False, pitch_length=106, pitch_width=68)"
   ]
  },
  {
   "cell_type": "code",
   "execution_count": null,
   "metadata": {},
   "outputs": [],
   "source": [
    "tracking_home_first_half"
   ]
  },
  {
   "cell_type": "code",
   "execution_count": null,
   "metadata": {},
   "outputs": [],
   "source": [
    "tracking_away_first_half"
   ]
  },
  {
   "cell_type": "markdown",
   "metadata": {},
   "source": [
    "#### <a id='#section3.2.2'> 3.2.2. Second Half"
   ]
  },
  {
   "cell_type": "code",
   "execution_count": null,
   "metadata": {},
   "outputs": [],
   "source": [
    "# Select the file from the three matches of Tracking data\n",
    "#file_name = '20190722.Hammarby-IFElfsborg'\n",
    "#file_name = '20191020.Hammarby-MalmöFF'\n",
    "file_name = '20190930.Hammarby-Örebro'        # NB: 2nd half almost no players in field\n",
    "\n",
    "# Names of the teams playing in OPTA format\n",
    "home_team_name = 'Hammarby IF'\n",
    "away_team_name = 'Örebro'\n",
    "year = file_name[:4]\n",
    "\n",
    "#First '.1' or second '.2' half of the match\n",
    "data_file_name=file_name+'.2'\n",
    "\n",
    "#Preprocesses the file in to the format we use.\n",
    "if not os.path.exists(data_dir_signality_tracking + '/Preprocessed/' + data_file_name + '_preprocessed.pickle'):\n",
    "    preprocessed = False\n",
    "    [ball_position_not_transf, players_position_not_transf, players_team_id, events, players_jersey,\n",
    "     info_match,names_of_players] = funcs.LoadDataHammarbyNewStructure2020(data_file_name, data_dir_signality_tracking + '/')\n",
    "else:\n",
    "    preprocessed = True\n",
    "    [ball_position_not_transf,players_position_not_transf,players_team_id,events,players_jersey,\n",
    "     info_match,names_of_players,players_in_play_list] = funcs.LoadDataHammarbyPreprocessed(data_file_name, data_dir_signality_tracking + '/')\n",
    "\n",
    "frame_id = 1000\n",
    "team_index = players_team_id[frame_id].astype(int).reshape(len(players_team_id[frame_id]),)\n",
    "players_in_play = funcs.GetPlayersInPlay(players_position_not_transf,frame_id)\n",
    "\n",
    "[players_position,ball_position] = funcs.TransformCoords(players_position_not_transf,ball_position_not_transf)"
   ]
  },
  {
   "cell_type": "code",
   "execution_count": null,
   "metadata": {},
   "outputs": [],
   "source": [
    "### Store data in dataframe with same format as Metrica data to be able to use parts of Laurie Shaw's code\n",
    "tracking_second_half = np.array(players_position)\n",
    "totalplayers = 36\n",
    "tracking_second_half.shape = -1, totalplayers*2     # X and Y coordinate for every player\n",
    "tracking_second_half = pd.DataFrame(tracking_second_half)\n",
    "column_names = []                   \n",
    "for i in range(totalplayers):       # Rename columns\n",
    "    if i < totalplayers/2:\n",
    "        column_names.append(f'Home_{players_jersey[i]}_x')\n",
    "        column_names.append(f'Home_{players_jersey[i]}_y')\n",
    "    else:\n",
    "        column_names.append(f'Away_{players_jersey[i]}_x')\n",
    "        column_names.append(f'Away_{players_jersey[i]}_y')\n",
    "tracking_second_half.columns = column_names"
   ]
  },
  {
   "cell_type": "code",
   "execution_count": null,
   "metadata": {},
   "outputs": [],
   "source": [
    "# Convert coordinates\n",
    "tracking_second_half.replace([-105, -68], float('nan'), inplace=True)\n",
    "pitch_length = info_match['calibration']['pitch_size'][0]\n",
    "pitch_width = info_match['calibration']['pitch_size'][1]\n",
    "for i in range(totalplayers*2):\n",
    "    if i % 2 == 0:\n",
    "        tracking_second_half.iloc[:,i] = tracking_second_half.iloc[:,i] - pitch_length/2            # subtract pitch length to set centre circle to (0,0)       \n",
    "    else:                                                                   \n",
    "        tracking_second_half.iloc[:,i] = (tracking_second_half.iloc[:,i] - pitch_width/2) * -1      # also multiply by -1 to mirror horizontally\n",
    "# split home & away team\n",
    "tracking_home_second_half=tracking_second_half.iloc[:,0:totalplayers]       \n",
    "tracking_away_second_half=tracking_second_half.iloc[:,totalplayers:totalplayers*2]"
   ]
  },
  {
   "cell_type": "code",
   "execution_count": null,
   "metadata": {},
   "outputs": [],
   "source": [
    "# Convert ball position coordinates\n",
    "ball_position = pd.DataFrame(ball_position, index=tracking_home_second_half.index)\n",
    "ball_position.columns = ['ball_x', 'ball_y']\n",
    "ball_position.replace([np.inf], float('nan'), inplace=True)\n",
    "ball_position.iloc[:,0] = ball_position.iloc[:,0] - pitch_length/2\n",
    "ball_position.iloc[:,1] = (ball_position.iloc[:,1] - pitch_width/2) * -1"
   ]
  },
  {
   "cell_type": "code",
   "execution_count": null,
   "metadata": {},
   "outputs": [],
   "source": [
    "# Add ball position to DataFrames\n",
    "tracking_home_second_half = pd.concat([tracking_home_second_half, ball_position], 1)\n",
    "tracking_away_second_half = pd.concat([tracking_away_second_half, ball_position], 1) "
   ]
  },
  {
   "cell_type": "code",
   "execution_count": null,
   "metadata": {},
   "outputs": [],
   "source": [
    "#### Add velocitiy & acceleration & distance to goal\n",
    "tracking_home_second_half = svel.calc_player_velocities(tracking_home_second_half, file_name='20190930.Hammarby-Örebro', data_file_name=file_name+'.2', maxspeed=12, smoothing_v=True, smoothing_a=True, distance2goal=True, pitch_length=106, pitch_width=68)\n",
    "#### We don't add distance to goal for Hammarby's opponent because other direction not implemented\n",
    "tracking_away_second_half = svel.calc_player_velocities(tracking_away_second_half, file_name='20190930.Hammarby-Örebro', data_file_name=file_name+'.2', maxspeed=12, smoothing_v=True, smoothing_a=True, distance2goal=False, pitch_length=106, pitch_width=68)"
   ]
  },
  {
   "cell_type": "code",
   "execution_count": null,
   "metadata": {},
   "outputs": [],
   "source": [
    "tracking_home_second_half"
   ]
  },
  {
   "cell_type": "code",
   "execution_count": null,
   "metadata": {},
   "outputs": [],
   "source": [
    "tracking_away_second_half"
   ]
  },
  {
   "cell_type": "markdown",
   "metadata": {},
   "source": [
    "#### <a id='#section3.2.3'> 3.2.3. Concatenate First and Second Half DataFrames"
   ]
  },
  {
   "cell_type": "code",
   "execution_count": null,
   "metadata": {},
   "outputs": [],
   "source": [
    "tracking_home_full = pd.concat([tracking_home_first_half, tracking_home_second_half])"
   ]
  },
  {
   "cell_type": "code",
   "execution_count": null,
   "metadata": {},
   "outputs": [],
   "source": [
    "tracking_away_full = pd.concat([tracking_away_first_half, tracking_away_second_half])"
   ]
  },
  {
   "cell_type": "code",
   "execution_count": null,
   "metadata": {},
   "outputs": [],
   "source": [
    "tracking_home_full"
   ]
  },
  {
   "cell_type": "code",
   "execution_count": null,
   "metadata": {
    "scrolled": true
   },
   "outputs": [],
   "source": [
    "tracking_away_full"
   ]
  },
  {
   "cell_type": "code",
   "execution_count": null,
   "metadata": {},
   "outputs": [],
   "source": [
    "df_tracking_orebro_home = tracking_home_full"
   ]
  },
  {
   "cell_type": "code",
   "execution_count": null,
   "metadata": {},
   "outputs": [],
   "source": [
    "df_tracking_orebro_away = tracking_away_full"
   ]
  },
  {
   "cell_type": "code",
   "execution_count": null,
   "metadata": {},
   "outputs": [],
   "source": [
    "# Export DataFrame as a CSV file\n",
    "df_tracking_orebro_home.to_csv(data_dir_signality + '/engineered/2019/tracking_data/hammerby_orebro_home.csv', index=None, header=True)\n",
    "df_tracking_orebro_away.to_csv(data_dir_signality + '/engineered/2019/tracking_data/hammerby_orebro_away.csv', index=None, header=True)"
   ]
  },
  {
   "cell_type": "markdown",
   "metadata": {},
   "source": [
    "#### <a id='#section3.2.2.'>3.2.2.  Preliminary Data Handling</a>\n",
    "Due to the number of DataFrames - Home and Away, for three different matches, the following data handling is just for one DataFrame, for the Elfberg Home (`df_tracking_orebro_home`)."
   ]
  },
  {
   "cell_type": "markdown",
   "metadata": {},
   "source": [
    "##### <a id='#section3.2.2.1.'>3.2.2.1. Tracking DataFrame</a>"
   ]
  },
  {
   "cell_type": "markdown",
   "metadata": {},
   "source": [
    "Let's quality of the dataset by looking first and last rows in pandas using the [head()](https://pandas.pydata.org/pandas-docs/stable/reference/api/pandas.DataFrame.head.html) and [tail()](https://pandas.pydata.org/pandas-docs/stable/reference/api/pandas.DataFrame.tail.html) methods."
   ]
  },
  {
   "cell_type": "code",
   "execution_count": null,
   "metadata": {
    "scrolled": true
   },
   "outputs": [],
   "source": [
    "# Display the first 5 rows of the raw DataFrame, df_tracking_orebro_home\n",
    "df_tracking_orebro_home.head()"
   ]
  },
  {
   "cell_type": "code",
   "execution_count": null,
   "metadata": {},
   "outputs": [],
   "source": [
    "# Display the last 5 rows of the raw DataFrame, df_tracking_orebro_home\n",
    "df_tracking_orebro_home.tail()"
   ]
  },
  {
   "cell_type": "code",
   "execution_count": null,
   "metadata": {},
   "outputs": [],
   "source": [
    "# Print the shape of the raw DataFrame, df_tracking_orebro_home\n",
    "print(df_tracking_orebro_home.shape)"
   ]
  },
  {
   "cell_type": "code",
   "execution_count": null,
   "metadata": {},
   "outputs": [],
   "source": [
    "# Print the column names of the raw DataFrame, df_tracking_orebro_home\n",
    "print(df_tracking_orebro_home.columns)"
   ]
  },
  {
   "cell_type": "markdown",
   "metadata": {},
   "source": [
    "The dataset has fourteen features (columns). Full details of these attributes can be found in the [Data Dictionary](section3.3.1)."
   ]
  },
  {
   "cell_type": "code",
   "execution_count": null,
   "metadata": {},
   "outputs": [],
   "source": [
    "# Data types of the features of the raw DataFrame, df_tracking_orebro_home\n",
    "df_tracking_orebro_home.dtypes"
   ]
  },
  {
   "cell_type": "markdown",
   "metadata": {},
   "source": [
    "All fourteen of the columns have the object data type. Full details of these attributes and their data types can be found in the [Data Dictionary](section3.3.1)."
   ]
  },
  {
   "cell_type": "code",
   "execution_count": null,
   "metadata": {},
   "outputs": [],
   "source": [
    "# Info for the raw DataFrame, df_tracking_orebro_home\n",
    "df_tracking_orebro_home.info()"
   ]
  },
  {
   "cell_type": "code",
   "execution_count": null,
   "metadata": {},
   "outputs": [],
   "source": [
    "# Description of the raw DataFrame, df_tracking_orebro_home showing some summary statistics for each numberical column in the DataFrame\n",
    "df_tracking_orebro_home.describe()"
   ]
  },
  {
   "cell_type": "code",
   "execution_count": null,
   "metadata": {
    "scrolled": true
   },
   "outputs": [],
   "source": [
    "# Plot visualisation of the missing values for each feature of the raw DataFrame, df_tracking_orebro_home\n",
    "msno.matrix(df_tracking_orebro_home, figsize = (30, 7))"
   ]
  },
  {
   "cell_type": "code",
   "execution_count": null,
   "metadata": {},
   "outputs": [],
   "source": [
    "# Counts of missing values\n",
    "null_value_stats = df_tracking_orebro_home.isnull().sum(axis=0)\n",
    "null_value_stats[null_value_stats != 0]"
   ]
  },
  {
   "cell_type": "markdown",
   "metadata": {},
   "source": [
    "---\n",
    "\n",
    "## <a id='#section4'>4. Summary</a>\n",
    "This notebook is to engineered the [Signality](https://www.signality.com/) Tracking football data with [Python](https://www.python.org/) for the match between Hammarby 5 vs. 2 IF Elfsborg on 22nd July 2019 using [pandas](http://pandas.pydata.org/) DataFrames."
   ]
  },
  {
   "cell_type": "markdown",
   "metadata": {},
   "source": [
    "---\n",
    "\n",
    "## <a id='#section5'>5. Next Steps</a>\n",
    "The step is to visualise this data and create Pitch Control models."
   ]
  },
  {
   "cell_type": "markdown",
   "metadata": {},
   "source": [
    "---\n",
    "\n",
    "## <a id='#section6'>6. References</a>"
   ]
  },
  {
   "cell_type": "markdown",
   "metadata": {},
   "source": [
    "---\n",
    "\n",
    "***Visit my website [EddWebster.com](https://www.eddwebster.com) or my [GitHub Repository](https://github.com/eddwebster) for more projects. If you'd like to get in contact, my Twitter handle is [@eddwebster](http://www.twitter.com/eddwebster) and my email is: edd.j.webster@gmail.com.***"
   ]
  },
  {
   "cell_type": "markdown",
   "metadata": {},
   "source": [
    "[Back to the top](#top)"
   ]
  }
 ],
 "metadata": {
  "kernelspec": {
   "display_name": "Python 3",
   "language": "python",
   "name": "python3"
  },
  "language_info": {
   "codemirror_mode": {
    "name": "ipython",
    "version": 3
   },
   "file_extension": ".py",
   "mimetype": "text/x-python",
   "name": "python",
   "nbconvert_exporter": "python",
   "pygments_lexer": "ipython3",
   "version": "3.7.6"
  },
  "varInspector": {
   "cols": {
    "lenName": 16,
    "lenType": 16,
    "lenVar": 40
   },
   "kernels_config": {
    "python": {
     "delete_cmd_postfix": "",
     "delete_cmd_prefix": "del ",
     "library": "var_list.py",
     "varRefreshCmd": "print(var_dic_list())"
    },
    "r": {
     "delete_cmd_postfix": ") ",
     "delete_cmd_prefix": "rm(",
     "library": "var_list.r",
     "varRefreshCmd": "cat(var_dic_list()) "
    }
   },
   "oldHeight": 642,
   "position": {
    "height": "664px",
    "left": "728px",
    "right": "20px",
    "top": "14px",
    "width": "489px"
   },
   "types_to_exclude": [
    "module",
    "function",
    "builtin_function_or_method",
    "instance",
    "_Feature"
   ],
   "varInspector_section_display": "block",
   "window_display": false
  }
 },
 "nbformat": 4,
 "nbformat_minor": 4
}
